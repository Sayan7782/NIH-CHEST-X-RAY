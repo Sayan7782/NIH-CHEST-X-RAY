{
 "cells": [
  {
   "cell_type": "code",
   "execution_count": 3,
   "metadata": {},
   "outputs": [],
   "source": [
    "pred_y=np.load(\"Predictions.npy\")"
   ]
  },
  {
   "cell_type": "code",
   "execution_count": 2,
   "metadata": {},
   "outputs": [],
   "source": [
    "import numpy as np"
   ]
  },
  {
   "cell_type": "code",
   "execution_count": 4,
   "metadata": {},
   "outputs": [
    {
     "data": {
      "text/plain": [
       "array([[3.32223773e-02, 1.57029688e-01, 4.80267704e-01, ...,\n",
       "        2.05025375e-02, 3.44476998e-02, 4.05013561e-05],\n",
       "       [9.45130885e-02, 4.80121076e-02, 5.66155136e-01, ...,\n",
       "        1.24664515e-01, 3.08442116e-02, 7.41639733e-03],\n",
       "       [2.99732983e-02, 2.85172164e-02, 5.38798332e-01, ...,\n",
       "        1.98304832e-01, 4.41916585e-02, 3.69310379e-03],\n",
       "       ...,\n",
       "       [3.56460750e-01, 1.60032362e-01, 4.79491591e-01, ...,\n",
       "        5.69956601e-02, 8.09014440e-02, 1.61328614e-02],\n",
       "       [2.47651190e-01, 1.11799508e-01, 3.24926198e-01, ...,\n",
       "        1.85551941e-02, 1.41535103e-02, 1.55001879e-04],\n",
       "       [8.35439265e-02, 4.63199914e-02, 4.71906096e-01, ...,\n",
       "        1.51913941e-01, 5.16614914e-02, 3.49256396e-03]], dtype=float32)"
      ]
     },
     "execution_count": 4,
     "metadata": {},
     "output_type": "execute_result"
    }
   ],
   "source": [
    "pred_y"
   ]
  },
  {
   "cell_type": "code",
   "execution_count": 5,
   "metadata": {},
   "outputs": [
    {
     "data": {
      "text/plain": [
       "(10352, 14)"
      ]
     },
     "execution_count": 5,
     "metadata": {},
     "output_type": "execute_result"
    }
   ],
   "source": [
    "pred_y.shape"
   ]
  },
  {
   "cell_type": "code",
   "execution_count": 6,
   "metadata": {},
   "outputs": [],
   "source": [
    "d=np.load('Y_test.npy')"
   ]
  },
  {
   "cell_type": "code",
   "execution_count": 7,
   "metadata": {},
   "outputs": [
    {
     "data": {
      "text/plain": [
       "(10352, 14)"
      ]
     },
     "execution_count": 7,
     "metadata": {},
     "output_type": "execute_result"
    }
   ],
   "source": [
    "d.shape"
   ]
  },
  {
   "cell_type": "code",
   "execution_count": 33,
   "metadata": {},
   "outputs": [],
   "source": [
    "labels=np.zeros((10352,14))"
   ]
  },
  {
   "cell_type": "code",
   "execution_count": 34,
   "metadata": {},
   "outputs": [
    {
     "data": {
      "text/plain": [
       "array([[0., 0., 0., ..., 0., 0., 0.],\n",
       "       [0., 0., 0., ..., 0., 0., 0.],\n",
       "       [0., 0., 0., ..., 0., 0., 0.],\n",
       "       ...,\n",
       "       [0., 0., 0., ..., 0., 0., 0.],\n",
       "       [0., 0., 0., ..., 0., 0., 0.],\n",
       "       [0., 0., 0., ..., 0., 0., 0.]])"
      ]
     },
     "execution_count": 34,
     "metadata": {},
     "output_type": "execute_result"
    }
   ],
   "source": [
    "labels"
   ]
  },
  {
   "cell_type": "code",
   "execution_count": 35,
   "metadata": {},
   "outputs": [],
   "source": [
    "for i in range(10352):\n",
    "    if (pred_y[i][0]>0.1):\n",
    "        labels[i][0]=1   \n",
    "    "
   ]
  },
  {
   "cell_type": "code",
   "execution_count": 36,
   "metadata": {},
   "outputs": [
    {
     "data": {
      "text/plain": [
       "array([[0., 0., 0., ..., 0., 0., 0.],\n",
       "       [0., 0., 0., ..., 0., 0., 0.],\n",
       "       [0., 0., 0., ..., 0., 0., 0.],\n",
       "       ...,\n",
       "       [1., 0., 0., ..., 0., 0., 0.],\n",
       "       [1., 0., 0., ..., 0., 0., 0.],\n",
       "       [0., 0., 0., ..., 0., 0., 0.]])"
      ]
     },
     "execution_count": 36,
     "metadata": {},
     "output_type": "execute_result"
    }
   ],
   "source": [
    "labels"
   ]
  },
  {
   "cell_type": "code",
   "execution_count": 37,
   "metadata": {},
   "outputs": [],
   "source": [
    "for i in range(10352):\n",
    "    if (pred_y[i][1]>0.1):\n",
    "        labels[i][1]=1 "
   ]
  },
  {
   "cell_type": "code",
   "execution_count": 38,
   "metadata": {},
   "outputs": [
    {
     "data": {
      "text/plain": [
       "array([[0., 1., 0., ..., 0., 0., 0.],\n",
       "       [0., 0., 0., ..., 0., 0., 0.],\n",
       "       [0., 0., 0., ..., 0., 0., 0.],\n",
       "       ...,\n",
       "       [1., 1., 0., ..., 0., 0., 0.],\n",
       "       [1., 1., 0., ..., 0., 0., 0.],\n",
       "       [0., 0., 0., ..., 0., 0., 0.]])"
      ]
     },
     "execution_count": 38,
     "metadata": {},
     "output_type": "execute_result"
    }
   ],
   "source": [
    "labels"
   ]
  },
  {
   "cell_type": "code",
   "execution_count": 39,
   "metadata": {},
   "outputs": [],
   "source": [
    "for i in range(10352):\n",
    "    if (pred_y[i][2]>0.3):\n",
    "        labels[i][2]=1 "
   ]
  },
  {
   "cell_type": "code",
   "execution_count": 40,
   "metadata": {},
   "outputs": [],
   "source": [
    "for i in range(10352):\n",
    "    if (pred_y[i][3]>0.1):\n",
    "        labels[i][3]=1 "
   ]
  },
  {
   "cell_type": "code",
   "execution_count": 41,
   "metadata": {},
   "outputs": [],
   "source": [
    "for i in range(10352):\n",
    "    if (pred_y[i][4]>0.1):\n",
    "        labels[i][4]=1 "
   ]
  },
  {
   "cell_type": "code",
   "execution_count": 42,
   "metadata": {},
   "outputs": [],
   "source": [
    "for i in range(10352):\n",
    "    if (pred_y[i][5]>0.05):\n",
    "        labels[i][5]=1 "
   ]
  },
  {
   "cell_type": "code",
   "execution_count": 43,
   "metadata": {},
   "outputs": [],
   "source": [
    "for i in range(10352):\n",
    "    if (pred_y[i][6]>0.05):\n",
    "        labels[i][6]=1 "
   ]
  },
  {
   "cell_type": "code",
   "execution_count": 44,
   "metadata": {},
   "outputs": [],
   "source": [
    "for i in range(10352):\n",
    "    if (pred_y[i][7]>0.1):\n",
    "        labels[i][7]=1 "
   ]
  },
  {
   "cell_type": "code",
   "execution_count": 45,
   "metadata": {},
   "outputs": [],
   "source": [
    "for i in range(10352):\n",
    "    if (pred_y[i][8]>0.05):\n",
    "        labels[i][8]=1 "
   ]
  },
  {
   "cell_type": "code",
   "execution_count": 46,
   "metadata": {},
   "outputs": [],
   "source": [
    "for i in range(10352):\n",
    "    if (pred_y[i][9]>0.1):\n",
    "        labels[i][9]=1 "
   ]
  },
  {
   "cell_type": "code",
   "execution_count": 47,
   "metadata": {},
   "outputs": [],
   "source": [
    "for i in range(10352):\n",
    "    if (pred_y[i][10]>0.1):\n",
    "        labels[i][10]=1 "
   ]
  },
  {
   "cell_type": "code",
   "execution_count": 48,
   "metadata": {},
   "outputs": [],
   "source": [
    "for i in range(10352):\n",
    "    if (pred_y[i][11]>0.1):\n",
    "        labels[i][11]=1 "
   ]
  },
  {
   "cell_type": "code",
   "execution_count": 49,
   "metadata": {},
   "outputs": [],
   "source": [
    "for i in range(10352):\n",
    "    if (pred_y[i][12]>0.1):\n",
    "        labels[i][12]=1 "
   ]
  },
  {
   "cell_type": "code",
   "execution_count": 50,
   "metadata": {},
   "outputs": [],
   "source": [
    "for i in range(10352):\n",
    "    if (pred_y[i][13]>0.1):\n",
    "        labels[i][13]=1 "
   ]
  },
  {
   "cell_type": "code",
   "execution_count": 51,
   "metadata": {},
   "outputs": [
    {
     "data": {
      "text/plain": [
       "array([[0., 1., 1., ..., 0., 0., 0.],\n",
       "       [0., 0., 1., ..., 1., 0., 0.],\n",
       "       [0., 0., 1., ..., 1., 0., 0.],\n",
       "       ...,\n",
       "       [1., 1., 1., ..., 0., 0., 0.],\n",
       "       [1., 1., 1., ..., 0., 0., 0.],\n",
       "       [0., 0., 1., ..., 1., 0., 0.]])"
      ]
     },
     "execution_count": 51,
     "metadata": {},
     "output_type": "execute_result"
    }
   ],
   "source": [
    "labels"
   ]
  },
  {
   "cell_type": "code",
   "execution_count": 52,
   "metadata": {},
   "outputs": [],
   "source": [
    "c1=0\n",
    "for i in range(10352):\n",
    "    for j in range(14):\n",
    "        if labels[i][j]==1:\n",
    "            c1=c1+1"
   ]
  },
  {
   "cell_type": "code",
   "execution_count": 53,
   "metadata": {},
   "outputs": [
    {
     "data": {
      "text/plain": [
       "44400"
      ]
     },
     "execution_count": 53,
     "metadata": {},
     "output_type": "execute_result"
    }
   ],
   "source": [
    "c1"
   ]
  },
  {
   "cell_type": "code",
   "execution_count": 54,
   "metadata": {},
   "outputs": [],
   "source": [
    "all_labels = ['Atelectasis', 'Consolidation', 'Infiltration', 'Pneumothorax', 'Edema', 'Emphysema', 'Fibrosis', 'Effusion', 'Pneumonia', 'Pleural_Thickening', \n",
    "'Cardiomegaly', 'Nodule', 'Mass', 'Hernia',]"
   ]
  },
  {
   "cell_type": "code",
   "execution_count": 55,
   "metadata": {},
   "outputs": [
    {
     "name": "stdout",
     "output_type": "stream",
     "text": [
      "Atelectasis :  2320  1951   369  4438  3594\n",
      "Consolidation :   941   670   271  4097  5314\n",
      "Infiltration :  3999  3823   176  5552   801\n",
      "Pneumothorax :  1058   476   582   980  8314\n",
      "Edema :   494   250   244  1164  8694\n",
      "Emphysema :   489   131   358   467  9396\n",
      "Fibrosis :   332   157   175  2002  8018\n",
      "Effusion :  2671  2407   264  4090  3591\n",
      "Pneumonia :   280    88   192  1911  8161\n",
      "Pleural_Thickening :   702   225   477  1181  8469\n",
      "Cardiomegaly :   510   364   146  1270  8572\n",
      "Nodule :  1207   751   456  3334  5811\n",
      "Mass :  1201   645   556  1484  7667\n",
      "Hernia :    38    16    22   476  9838\n"
     ]
    }
   ],
   "source": [
    "j=0\n",
    "for label in all_labels:\n",
    "    s=0\n",
    "    s1=0\n",
    "    s2=0\n",
    "    s3=0\n",
    "    s4=0\n",
    "\n",
    "    for i in range(10352):\n",
    "        if(d[i][j]==1):\n",
    "            s=s+1\n",
    "            if(d[i][j]==labels[i][j]and labels[i][j]==1):\n",
    "                s1=s1+1\n",
    "            if(d[i][j]==1 and labels[i][j]==0):\n",
    "                s2=s2+1\n",
    "    for i in range(10352):        \n",
    "        if(d[i][j]==0 and labels[i][j]==1):\n",
    "                s3=s3+1\n",
    "        if(d[i][j]==labels[i][j] and labels[i][j]==0):\n",
    "                s4=s4+1\n",
    "                   \n",
    "    print(\"%s : %5d %5d %5d %5d %5d\"%(label,s,s1,s2,s3,s4))\n",
    "    j+=1"
   ]
  },
  {
   "cell_type": "code",
   "execution_count": null,
   "metadata": {},
   "outputs": [],
   "source": []
  }
 ],
 "metadata": {
  "kernelspec": {
   "display_name": "Python 3",
   "language": "python",
   "name": "python3"
  },
  "language_info": {
   "codemirror_mode": {
    "name": "ipython",
    "version": 3
   },
   "file_extension": ".py",
   "mimetype": "text/x-python",
   "name": "python",
   "nbconvert_exporter": "python",
   "pygments_lexer": "ipython3",
   "version": "3.7.3"
  }
 },
 "nbformat": 4,
 "nbformat_minor": 2
}
