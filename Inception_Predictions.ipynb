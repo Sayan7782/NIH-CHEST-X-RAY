{
 "cells": [
  {
   "cell_type": "code",
   "execution_count": 1,
   "metadata": {},
   "outputs": [],
   "source": [
    "import numpy as np"
   ]
  },
  {
   "cell_type": "code",
   "execution_count": 2,
   "metadata": {},
   "outputs": [],
   "source": [
    "pred_y=np.load(\"Predictions_Inception400.npy\")"
   ]
  },
  {
   "cell_type": "code",
   "execution_count": 3,
   "metadata": {},
   "outputs": [
    {
     "data": {
      "text/plain": [
       "(10352, 14)"
      ]
     },
     "execution_count": 3,
     "metadata": {},
     "output_type": "execute_result"
    }
   ],
   "source": [
    "pred_y.shape"
   ]
  },
  {
   "cell_type": "code",
   "execution_count": 4,
   "metadata": {},
   "outputs": [],
   "source": [
    "d=np.load('Y_test.npy')"
   ]
  },
  {
   "cell_type": "code",
   "execution_count": 5,
   "metadata": {},
   "outputs": [],
   "source": [
    "labels=np.zeros((10352,14))"
   ]
  },
  {
   "cell_type": "code",
   "execution_count": 6,
   "metadata": {},
   "outputs": [
    {
     "data": {
      "text/plain": [
       "array([[0., 0., 0., ..., 0., 0., 0.],\n",
       "       [0., 0., 0., ..., 0., 0., 0.],\n",
       "       [0., 0., 0., ..., 0., 0., 0.],\n",
       "       ...,\n",
       "       [0., 0., 0., ..., 0., 0., 0.],\n",
       "       [0., 0., 0., ..., 0., 0., 0.],\n",
       "       [0., 0., 0., ..., 0., 0., 0.]])"
      ]
     },
     "execution_count": 6,
     "metadata": {},
     "output_type": "execute_result"
    }
   ],
   "source": [
    "labels"
   ]
  },
  {
   "cell_type": "code",
   "execution_count": 7,
   "metadata": {},
   "outputs": [],
   "source": [
    "for i in range(10352):\n",
    "    if (pred_y[i][0]>0.1):\n",
    "        labels[i][0]=1"
   ]
  },
  {
   "cell_type": "code",
   "execution_count": 8,
   "metadata": {},
   "outputs": [],
   "source": [
    "for i in range(10352):\n",
    "    if (pred_y[i][1]>0.1):\n",
    "        labels[i][1]=1 "
   ]
  },
  {
   "cell_type": "code",
   "execution_count": 9,
   "metadata": {},
   "outputs": [],
   "source": [
    "for i in range(10352):\n",
    "    if (pred_y[i][2]>0.3):\n",
    "        labels[i][2]=1 "
   ]
  },
  {
   "cell_type": "code",
   "execution_count": 10,
   "metadata": {},
   "outputs": [],
   "source": [
    "for i in range(10352):\n",
    "    if (pred_y[i][3]>0.1):\n",
    "        labels[i][3]=1 "
   ]
  },
  {
   "cell_type": "code",
   "execution_count": 11,
   "metadata": {},
   "outputs": [],
   "source": [
    "for i in range(10352):\n",
    "    if (pred_y[i][4]>0.1):\n",
    "        labels[i][4]=1 "
   ]
  },
  {
   "cell_type": "code",
   "execution_count": 12,
   "metadata": {},
   "outputs": [],
   "source": [
    "for i in range(10352):\n",
    "    if (pred_y[i][5]>0.05):\n",
    "        labels[i][5]=1 "
   ]
  },
  {
   "cell_type": "code",
   "execution_count": 13,
   "metadata": {},
   "outputs": [],
   "source": [
    "for i in range(10352):\n",
    "    if (pred_y[i][6]>0.05):\n",
    "        labels[i][6]=1 "
   ]
  },
  {
   "cell_type": "code",
   "execution_count": 14,
   "metadata": {},
   "outputs": [],
   "source": [
    "for i in range(10352):\n",
    "    if (pred_y[i][7]>0.1):\n",
    "        labels[i][7]=1 "
   ]
  },
  {
   "cell_type": "code",
   "execution_count": 15,
   "metadata": {},
   "outputs": [],
   "source": [
    "for i in range(10352):\n",
    "    if (pred_y[i][8]>0.05):\n",
    "        labels[i][8]=1 "
   ]
  },
  {
   "cell_type": "code",
   "execution_count": 16,
   "metadata": {},
   "outputs": [],
   "source": [
    "for i in range(10352):\n",
    "    if (pred_y[i][9]>0.1):\n",
    "        labels[i][9]=1 "
   ]
  },
  {
   "cell_type": "code",
   "execution_count": 17,
   "metadata": {},
   "outputs": [],
   "source": [
    "for i in range(10352):\n",
    "    if (pred_y[i][10]>0.1):\n",
    "        labels[i][10]=1 "
   ]
  },
  {
   "cell_type": "code",
   "execution_count": 18,
   "metadata": {},
   "outputs": [],
   "source": [
    "for i in range(10352):\n",
    "    if (pred_y[i][11]>0.1):\n",
    "        labels[i][11]=1 "
   ]
  },
  {
   "cell_type": "code",
   "execution_count": 19,
   "metadata": {},
   "outputs": [],
   "source": [
    "for i in range(10352):\n",
    "    if (pred_y[i][12]>0.1):\n",
    "        labels[i][12]=1 "
   ]
  },
  {
   "cell_type": "code",
   "execution_count": 20,
   "metadata": {},
   "outputs": [],
   "source": [
    "for i in range(10352):\n",
    "    if (pred_y[i][13]>0.1):\n",
    "        labels[i][13]=1 "
   ]
  },
  {
   "cell_type": "code",
   "execution_count": 21,
   "metadata": {},
   "outputs": [
    {
     "data": {
      "text/plain": [
       "array([[1., 1., 1., ..., 0., 0., 0.],\n",
       "       [1., 0., 1., ..., 1., 0., 0.],\n",
       "       [1., 0., 0., ..., 1., 0., 0.],\n",
       "       ...,\n",
       "       [1., 1., 1., ..., 0., 1., 0.],\n",
       "       [1., 1., 1., ..., 0., 0., 0.],\n",
       "       [1., 0., 0., ..., 1., 1., 0.]])"
      ]
     },
     "execution_count": 21,
     "metadata": {},
     "output_type": "execute_result"
    }
   ],
   "source": [
    "labels"
   ]
  },
  {
   "cell_type": "code",
   "execution_count": 22,
   "metadata": {},
   "outputs": [],
   "source": [
    "c1=0\n",
    "for i in range(10352):\n",
    "    for j in range(14):\n",
    "        if labels[i][j]==1:\n",
    "            c1=c1+1"
   ]
  },
  {
   "cell_type": "code",
   "execution_count": 23,
   "metadata": {},
   "outputs": [
    {
     "data": {
      "text/plain": [
       "48103"
      ]
     },
     "execution_count": 23,
     "metadata": {},
     "output_type": "execute_result"
    }
   ],
   "source": [
    "c1"
   ]
  },
  {
   "cell_type": "code",
   "execution_count": 24,
   "metadata": {},
   "outputs": [],
   "source": [
    "all_labels = ['Atelectasis', 'Consolidation', 'Infiltration', 'Pneumothorax', 'Edema', 'Emphysema', 'Fibrosis', 'Effusion', 'Pneumonia', 'Pleural_Thickening', \n",
    "'Cardiomegaly', 'Nodule', 'Mass', 'Hernia',]"
   ]
  },
  {
   "cell_type": "code",
   "execution_count": 25,
   "metadata": {},
   "outputs": [
    {
     "name": "stdout",
     "output_type": "stream",
     "text": [
      "Atelectasis :  2320  2201   119  6263  1769\n",
      "Consolidation :   941   583   358  3078  6333\n",
      "Infiltration :  3999  2622  1377  2529  3824\n",
      "Pneumothorax :  1058   663   395  1775  7519\n",
      "Edema :   494   210   284   803  9055\n",
      "Emphysema :   489   319   170  2568  7295\n",
      "Fibrosis :   332   207   125  3045  6975\n",
      "Effusion :  2671  2532   139  5065  2616\n",
      "Pneumonia :   280    51   229   758  9314\n",
      "Pleural_Thickening :   702   307   395  1965  7685\n",
      "Cardiomegaly :   510   225   285   374  9468\n",
      "Nodule :  1207   836   371  4151  4994\n",
      "Mass :  1201   934   267  4003  5148\n",
      "Hernia :    38     1    37    35 10279\n"
     ]
    }
   ],
   "source": [
    "j=0\n",
    "for label in all_labels:\n",
    "    s=0\n",
    "    s1=0\n",
    "    s2=0\n",
    "    s3=0\n",
    "    s4=0\n",
    "\n",
    "    for i in range(10352):\n",
    "        if(d[i][j]==1):\n",
    "            s=s+1\n",
    "            if(d[i][j]==labels[i][j]and labels[i][j]==1):\n",
    "                s1=s1+1\n",
    "            if(d[i][j]==1 and labels[i][j]==0):\n",
    "                s2=s2+1\n",
    "    for i in range(10352):        \n",
    "        if(d[i][j]==0 and labels[i][j]==1):\n",
    "                s3=s3+1\n",
    "        if(d[i][j]==labels[i][j] and labels[i][j]==0):\n",
    "                s4=s4+1\n",
    "                   \n",
    "    print(\"%s : %5d %5d %5d %5d %5d\"%(label,s,s1,s2,s3,s4))\n",
    "    j+=1"
   ]
  }
 ],
 "metadata": {
  "kernelspec": {
   "display_name": "Python 3",
   "language": "python",
   "name": "python3"
  },
  "language_info": {
   "codemirror_mode": {
    "name": "ipython",
    "version": 3
   },
   "file_extension": ".py",
   "mimetype": "text/x-python",
   "name": "python",
   "nbconvert_exporter": "python",
   "pygments_lexer": "ipython3",
   "version": "3.7.3"
  }
 },
 "nbformat": 4,
 "nbformat_minor": 2
}
