{
 "cells": [
  {
   "cell_type": "code",
   "execution_count": 1,
   "metadata": {},
   "outputs": [],
   "source": [
    "import numpy as np"
   ]
  },
  {
   "cell_type": "code",
   "execution_count": 2,
   "metadata": {},
   "outputs": [],
   "source": [
    "pred_y=np.load(\"Predictions_ResNet400.npy\")"
   ]
  },
  {
   "cell_type": "code",
   "execution_count": 3,
   "metadata": {},
   "outputs": [
    {
     "data": {
      "text/plain": [
       "(10352, 14)"
      ]
     },
     "execution_count": 3,
     "metadata": {},
     "output_type": "execute_result"
    }
   ],
   "source": [
    "pred_y.shape"
   ]
  },
  {
   "cell_type": "code",
   "execution_count": 4,
   "metadata": {},
   "outputs": [],
   "source": [
    "d=np.load('Y_test.npy')"
   ]
  },
  {
   "cell_type": "code",
   "execution_count": 5,
   "metadata": {},
   "outputs": [],
   "source": [
    "labels=np.zeros((10352,14))"
   ]
  },
  {
   "cell_type": "code",
   "execution_count": 6,
   "metadata": {},
   "outputs": [
    {
     "data": {
      "text/plain": [
       "array([[0., 0., 0., ..., 0., 0., 0.],\n",
       "       [0., 0., 0., ..., 0., 0., 0.],\n",
       "       [0., 0., 0., ..., 0., 0., 0.],\n",
       "       ...,\n",
       "       [0., 0., 0., ..., 0., 0., 0.],\n",
       "       [0., 0., 0., ..., 0., 0., 0.],\n",
       "       [0., 0., 0., ..., 0., 0., 0.]])"
      ]
     },
     "execution_count": 6,
     "metadata": {},
     "output_type": "execute_result"
    }
   ],
   "source": [
    "labels"
   ]
  },
  {
   "cell_type": "code",
   "execution_count": 7,
   "metadata": {},
   "outputs": [],
   "source": [
    "for i in range(10352):\n",
    "    if (pred_y[i][0]>0.1):\n",
    "        labels[i][0]=1"
   ]
  },
  {
   "cell_type": "code",
   "execution_count": 8,
   "metadata": {},
   "outputs": [],
   "source": [
    "for i in range(10352):\n",
    "    if (pred_y[i][1]>0.1):\n",
    "        labels[i][1]=1 "
   ]
  },
  {
   "cell_type": "code",
   "execution_count": 9,
   "metadata": {},
   "outputs": [],
   "source": [
    "for i in range(10352):\n",
    "    if (pred_y[i][2]>0.3):\n",
    "        labels[i][2]=1 "
   ]
  },
  {
   "cell_type": "code",
   "execution_count": 10,
   "metadata": {},
   "outputs": [],
   "source": [
    "for i in range(10352):\n",
    "    if (pred_y[i][3]>0.1):\n",
    "        labels[i][3]=1"
   ]
  },
  {
   "cell_type": "code",
   "execution_count": 11,
   "metadata": {},
   "outputs": [],
   "source": [
    "for i in range(10352):\n",
    "    if (pred_y[i][4]>0.1):\n",
    "        labels[i][4]=1 "
   ]
  },
  {
   "cell_type": "code",
   "execution_count": 12,
   "metadata": {},
   "outputs": [],
   "source": [
    "for i in range(10352):\n",
    "    if (pred_y[i][5]>0.05):\n",
    "        labels[i][5]=1 "
   ]
  },
  {
   "cell_type": "code",
   "execution_count": 13,
   "metadata": {},
   "outputs": [],
   "source": [
    "for i in range(10352):\n",
    "    if (pred_y[i][6]>0.05):\n",
    "        labels[i][6]=1 "
   ]
  },
  {
   "cell_type": "code",
   "execution_count": 14,
   "metadata": {},
   "outputs": [],
   "source": [
    "for i in range(10352):\n",
    "    if (pred_y[i][7]>0.1):\n",
    "        labels[i][7]=1 "
   ]
  },
  {
   "cell_type": "code",
   "execution_count": 15,
   "metadata": {},
   "outputs": [],
   "source": [
    "for i in range(10352):\n",
    "    if (pred_y[i][8]>0.05):\n",
    "        labels[i][8]=1 "
   ]
  },
  {
   "cell_type": "code",
   "execution_count": 16,
   "metadata": {},
   "outputs": [],
   "source": [
    "for i in range(10352):\n",
    "    if (pred_y[i][9]>0.1):\n",
    "        labels[i][9]=1 "
   ]
  },
  {
   "cell_type": "code",
   "execution_count": 17,
   "metadata": {},
   "outputs": [],
   "source": [
    "for i in range(10352):\n",
    "    if (pred_y[i][10]>0.1):\n",
    "        labels[i][10]=1 "
   ]
  },
  {
   "cell_type": "code",
   "execution_count": 18,
   "metadata": {},
   "outputs": [],
   "source": [
    "for i in range(10352):\n",
    "    if (pred_y[i][11]>0.1):\n",
    "        labels[i][11]=1 "
   ]
  },
  {
   "cell_type": "code",
   "execution_count": 19,
   "metadata": {},
   "outputs": [],
   "source": [
    "for i in range(10352):\n",
    "    if (pred_y[i][12]>0.1):\n",
    "        labels[i][12]=1 "
   ]
  },
  {
   "cell_type": "code",
   "execution_count": 32,
   "metadata": {},
   "outputs": [],
   "source": [
    "for i in range(10352):\n",
    "    if (pred_y[i][13]>0.1):\n",
    "        labels[i][13]=1 "
   ]
  },
  {
   "cell_type": "code",
   "execution_count": 33,
   "metadata": {},
   "outputs": [
    {
     "data": {
      "text/plain": [
       "array([[0., 1., 1., ..., 0., 0., 0.],\n",
       "       [1., 0., 1., ..., 1., 0., 0.],\n",
       "       [1., 0., 1., ..., 1., 0., 0.],\n",
       "       ...,\n",
       "       [1., 1., 1., ..., 0., 1., 0.],\n",
       "       [1., 1., 1., ..., 0., 0., 0.],\n",
       "       [1., 0., 1., ..., 1., 0., 0.]])"
      ]
     },
     "execution_count": 33,
     "metadata": {},
     "output_type": "execute_result"
    }
   ],
   "source": [
    "labels"
   ]
  },
  {
   "cell_type": "code",
   "execution_count": 34,
   "metadata": {},
   "outputs": [],
   "source": [
    "c1=0\n",
    "for i in range(10352):\n",
    "    for j in range(14):\n",
    "        if labels[i][j]==1:\n",
    "            c1=c1+1"
   ]
  },
  {
   "cell_type": "code",
   "execution_count": 35,
   "metadata": {},
   "outputs": [
    {
     "data": {
      "text/plain": [
       "51696"
      ]
     },
     "execution_count": 35,
     "metadata": {},
     "output_type": "execute_result"
    }
   ],
   "source": [
    "c1"
   ]
  },
  {
   "cell_type": "code",
   "execution_count": 36,
   "metadata": {},
   "outputs": [],
   "source": [
    "all_labels = ['Atelectasis', 'Consolidation', 'Infiltration', 'Pneumothorax', 'Edema', 'Emphysema', 'Fibrosis', 'Effusion', 'Pneumonia', 'Pleural_Thickening', \n",
    "'Cardiomegaly', 'Nodule', 'Mass', 'Hernia',]"
   ]
  },
  {
   "cell_type": "code",
   "execution_count": 37,
   "metadata": {},
   "outputs": [
    {
     "name": "stdout",
     "output_type": "stream",
     "text": [
      "Atelectasis :  2320  1941   379  5375  2657\n",
      "Consolidation :   941   737   204  4873  4538\n",
      "Infiltration :  3999  3326   673  4240  2113\n",
      "Pneumothorax :  1058   783   275  4621  4673\n",
      "Edema :   494   273   221  1523  8335\n",
      "Emphysema :   489   248   241  2047  7816\n",
      "Fibrosis :   332   194   138  2820  7200\n",
      "Effusion :  2671  2649    22  6929   752\n",
      "Pneumonia :   280    67   213  1098  8974\n",
      "Pleural_Thickening :   702   261   441  1858  7792\n",
      "Cardiomegaly :   510   152   358   279  9563\n",
      "Nodule :  1207   616   591  2429  6716\n",
      "Mass :  1201   652   549  1703  7448\n",
      "Hernia :    38     0    38     2 10312\n"
     ]
    }
   ],
   "source": [
    "j=0\n",
    "for label in all_labels:\n",
    "    s=0\n",
    "    s1=0\n",
    "    s2=0\n",
    "    s3=0\n",
    "    s4=0\n",
    "\n",
    "    for i in range(10352):\n",
    "        if(d[i][j]==1):\n",
    "            s=s+1\n",
    "            if(d[i][j]==labels[i][j]and labels[i][j]==1):\n",
    "                s1=s1+1\n",
    "            if(d[i][j]==1 and labels[i][j]==0):\n",
    "                s2=s2+1\n",
    "    for i in range(10352):        \n",
    "        if(d[i][j]==0 and labels[i][j]==1):\n",
    "                s3=s3+1\n",
    "        if(d[i][j]==labels[i][j] and labels[i][j]==0):\n",
    "                s4=s4+1\n",
    "                   \n",
    "    print(\"%s : %5d %5d %5d %5d %5d\"%(label,s,s1,s2,s3,s4))\n",
    "    j+=1"
   ]
  },
  {
   "cell_type": "code",
   "execution_count": 39,
   "metadata": {},
   "outputs": [
    {
     "data": {
      "text/plain": [
       "array([2.9802322e-07, 1.3779044e-02, 1.0811508e-02, ..., 4.6211481e-04,\n",
       "       4.5925379e-05, 1.3603687e-02], dtype=float32)"
      ]
     },
     "execution_count": 39,
     "metadata": {},
     "output_type": "execute_result"
    }
   ],
   "source": [
    "pred_y[:,13]"
   ]
  },
  {
   "cell_type": "code",
   "execution_count": null,
   "metadata": {},
   "outputs": [],
   "source": []
  }
 ],
 "metadata": {
  "kernelspec": {
   "display_name": "Python 3",
   "language": "python",
   "name": "python3"
  },
  "language_info": {
   "codemirror_mode": {
    "name": "ipython",
    "version": 3
   },
   "file_extension": ".py",
   "mimetype": "text/x-python",
   "name": "python",
   "nbconvert_exporter": "python",
   "pygments_lexer": "ipython3",
   "version": "3.7.3"
  }
 },
 "nbformat": 4,
 "nbformat_minor": 2
}
